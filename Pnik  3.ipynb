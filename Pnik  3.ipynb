{
 "cells": [
  {
   "cell_type": "code",
   "execution_count": 2,
   "id": "d12512dd",
   "metadata": {},
   "outputs": [
    {
     "name": "stdout",
     "output_type": "stream",
     "text": [
      "Matrix : A\n"
     ]
    },
    {
     "data": {
      "text/latex": [
       "$\\displaystyle \\left[\\begin{matrix}2 & 8 & 1 & 9 & 3\\\\5 & 1 & 4 & 5 & 1\\\\9 & 8 & 3 & 5 & 1\\\\0 & 3 & 5 & 8 & 0\\\\1 & 1 & 1 & 9 & 3\\end{matrix}\\right]$"
      ],
      "text/plain": [
       "Matrix([\n",
       "[2, 8, 1, 9, 3],\n",
       "[5, 1, 4, 5, 1],\n",
       "[9, 8, 3, 5, 1],\n",
       "[0, 3, 5, 8, 0],\n",
       "[1, 1, 1, 9, 3]])"
      ]
     },
     "execution_count": 2,
     "metadata": {},
     "output_type": "execute_result"
    }
   ],
   "source": [
    "import numpy as np\n",
    "import sympy as sp\n",
    "np.random.seed(62)\n",
    "\n",
    "A = np.random.randint(0, 10, size=(5, 5))\n",
    "print(\"Matrix : A\")\n",
    "sp.Matrix(A)"
   ]
  },
  {
   "cell_type": "code",
   "execution_count": 8,
   "id": "7fd5359f",
   "metadata": {},
   "outputs": [
    {
     "name": "stdout",
     "output_type": "stream",
     "text": [
      "Matrix U:\n",
      "[[-0.54806071  0.14646083 -0.67163874 -0.05513129 -0.4733293 ]\n",
      " [-0.33033783 -0.11305961  0.66496079  0.22178065 -0.62188016]\n",
      " [-0.54193495 -0.73195185 -0.00862927  0.00325867  0.41287761]\n",
      " [-0.39548279  0.40828315  0.31841941 -0.72689518  0.21709606]\n",
      " [-0.37470822  0.5131453   0.07254765  0.6476007   0.41427747]]\n",
      "Matrix Sigma:\n",
      "[[21.78625127  0.          0.          0.          0.        ]\n",
      " [ 0.          8.7008465   0.          0.          0.        ]\n",
      " [ 0.          0.          5.71067111  0.          0.        ]\n",
      " [ 0.          0.          0.          3.84855491  0.        ]\n",
      " [ 0.          0.          0.          0.          0.48102635]]\n",
      "Matrix V^T:\n",
      "[[-0.367201   -0.48707139 -0.26839583 -0.72661177 -0.16710445]\n",
      " [-0.72944601 -0.35157418  0.00608308  0.57208953  0.13030996]\n",
      " [ 0.34609079 -0.65655636  0.63511998  0.07655721 -0.19979118]\n",
      " [ 0.43537624 -0.44855413 -0.5573801   0.16688336  0.52031154]\n",
      " [ 0.15407998 -0.08300603 -0.46246807  0.33322342 -0.80277942]]\n"
     ]
    }
   ],
   "source": [
    "# Perform Singular Value Decomposition (SVD)\n",
    "U, Sigma, VT = np.linalg.svd(A)\n",
    "print(\"Matrix U:\")\n",
    "print(U)\n",
    "\n",
    "print(\"Matrix Sigma:\")\n",
    "print(np.diag(Sigma))\n",
    "\n",
    "print(\"Matrix V^T:\")\n",
    "print(VT)\n"
   ]
  },
  {
   "cell_type": "code",
   "execution_count": 9,
   "id": "2e9ed59f",
   "metadata": {},
   "outputs": [
    {
     "name": "stdout",
     "output_type": "stream",
     "text": [
      "Is A equal to the product of U, Sigma, and V^T?\n",
      "True\n"
     ]
    }
   ],
   "source": [
    "reconstructed_A = U @ np.diag(Sigma) @ VT\n",
    "print(\"Is A equal to the product of U, Sigma, and V^T?\")\n",
    "print(np.allclose(A, reconstructed_A))\n"
   ]
  },
  {
   "cell_type": "code",
   "execution_count": 14,
   "id": "4d0b9203",
   "metadata": {},
   "outputs": [
    {
     "name": "stdout",
     "output_type": "stream",
     "text": [
      "Rank 2 approximation of A:\n"
     ]
    },
    {
     "data": {
      "text/latex": [
       "$\\displaystyle \\left[\\begin{matrix}3.45489180984702 & 5.36770139799428 & 3.21244863862897 & 9.40491400618447 & 2.16131691540873\\\\3.36024712768542 & 3.85121514810564 & 1.92561330906542 & 4.66652366872795 & 1.07443339341449\\\\8.98099380563629 & 7.98975640612781 & 3.13013670700097 & 4.93549990672571 & 1.14306520232266\\\\0.572545367323634 & 2.9477143939578 & 2.33413155927272 & 8.29284660406353 & 1.9027008514831\\\\-0.259188644185597 & 2.40649331767025 & 2.21820574433633 & 8.48595057961036 & 1.94596281151211\\end{matrix}\\right]$"
      ],
      "text/plain": [
       "Matrix([\n",
       "[  3.45489180984702, 5.36770139799428, 3.21244863862897, 9.40491400618447, 2.16131691540873],\n",
       "[  3.36024712768542, 3.85121514810564, 1.92561330906542, 4.66652366872795, 1.07443339341449],\n",
       "[  8.98099380563629, 7.98975640612781, 3.13013670700097, 4.93549990672571, 1.14306520232266],\n",
       "[ 0.572545367323634,  2.9477143939578, 2.33413155927272, 8.29284660406353,  1.9027008514831],\n",
       "[-0.259188644185597, 2.40649331767025, 2.21820574433633, 8.48595057961036, 1.94596281151211]])"
      ]
     },
     "execution_count": 14,
     "metadata": {},
     "output_type": "execute_result"
    }
   ],
   "source": [
    "# Rank 2 approximation of A\n",
    "rank_2 = U[:, :2] @ np.diag(Sigma[:2]) @ VT[:2, :]\n",
    "print(\"Rank 2 approximation of A:\")\n",
    "sp.Matrix(rank_2)\n"
   ]
  },
  {
   "cell_type": "code",
   "execution_count": 13,
   "id": "dd85f9ad",
   "metadata": {},
   "outputs": [
    {
     "name": "stdout",
     "output_type": "stream",
     "text": [
      "Rank 3 approximation of A:\n"
     ]
    },
    {
     "data": {
      "text/latex": [
       "$\\displaystyle \\left[\\begin{matrix}2.12745782690287 & 7.88592853493556 & 0.776440913529445 & 9.11127820636909 & 2.92761759400809\\\\4.67448274450341 & 1.35802615556117 & 4.33740037818121 & 4.95723991635202 & 0.315751863525216\\\\8.96393881944907 & 8.02211080535869 & 3.09883866985762 & 4.93172724866944 & 1.1529106994673\\\\1.20187288845453 & 1.75383984946191 & 3.48902643373753 & 8.43205736134974 & 1.53940285497238\\\\-0.115804691948596 & 2.13448479282875 & 2.4813332669043 & 8.51766790946387 & 1.86319016796733\\end{matrix}\\right]$"
      ],
      "text/plain": [
       "Matrix([\n",
       "[  2.12745782690287, 7.88592853493556, 0.776440913529445, 9.11127820636909,  2.92761759400809],\n",
       "[  4.67448274450341, 1.35802615556117,  4.33740037818121, 4.95723991635202, 0.315751863525216],\n",
       "[  8.96393881944907, 8.02211080535869,  3.09883866985762, 4.93172724866944,   1.1529106994673],\n",
       "[  1.20187288845453, 1.75383984946191,  3.48902643373753, 8.43205736134974,  1.53940285497238],\n",
       "[-0.115804691948596, 2.13448479282875,   2.4813332669043, 8.51766790946387,  1.86319016796733]])"
      ]
     },
     "execution_count": 13,
     "metadata": {},
     "output_type": "execute_result"
    }
   ],
   "source": [
    "# Rank 3 approximation of A\n",
    "rank_3 = U[:, :3] @ np.diag(Sigma[:3]) @ VT[:3, :]\n",
    "print(\"Rank 3 approximation of A:\")\n",
    "sp.Matrix(rank_3)"
   ]
  },
  {
   "cell_type": "code",
   "execution_count": null,
   "id": "40db4941",
   "metadata": {},
   "outputs": [],
   "source": []
  }
 ],
 "metadata": {
  "kernelspec": {
   "display_name": "Python 3 (ipykernel)",
   "language": "python",
   "name": "python3"
  },
  "language_info": {
   "codemirror_mode": {
    "name": "ipython",
    "version": 3
   },
   "file_extension": ".py",
   "mimetype": "text/x-python",
   "name": "python",
   "nbconvert_exporter": "python",
   "pygments_lexer": "ipython3",
   "version": "3.11.4"
  }
 },
 "nbformat": 4,
 "nbformat_minor": 5
}
