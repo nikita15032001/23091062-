{
 "cells": [
  {
   "cell_type": "code",
   "execution_count": 1,
   "id": "7e9f9005",
   "metadata": {},
   "outputs": [
    {
     "name": "stdout",
     "output_type": "stream",
     "text": [
      "Matrix : A\n"
     ]
    },
    {
     "data": {
      "text/latex": [
       "$\\displaystyle \\left[\\begin{matrix}2 & 8 & 1 & 9 & 3\\\\5 & 1 & 4 & 5 & 1\\\\9 & 8 & 3 & 5 & 1\\\\0 & 3 & 5 & 8 & 0\\\\1 & 1 & 1 & 9 & 3\\end{matrix}\\right]$"
      ],
      "text/plain": [
       "Matrix([\n",
       "[2, 8, 1, 9, 3],\n",
       "[5, 1, 4, 5, 1],\n",
       "[9, 8, 3, 5, 1],\n",
       "[0, 3, 5, 8, 0],\n",
       "[1, 1, 1, 9, 3]])"
      ]
     },
     "execution_count": 1,
     "metadata": {},
     "output_type": "execute_result"
    }
   ],
   "source": [
    "# Q2\n",
    "import numpy as np\n",
    "import sympy as sp\n",
    "np.random.seed(62)\n",
    "\n",
    "A = np.random.randint(0, 10, size=(5, 5))\n",
    "print(\"Matrix : A\")\n",
    "sp.Matrix(A)"
   ]
  },
  {
   "cell_type": "code",
   "execution_count": 2,
   "id": "74dd8e61",
   "metadata": {},
   "outputs": [],
   "source": [
    "A=np.array([[2, 8, 1, 9, 3], [5, 1, 4, 5 ,1], [9 ,8, 3, 5, 1], [0, 3, 5, 8 ,0], [1 ,1 ,1 ,9, 3]])"
   ]
  },
  {
   "cell_type": "code",
   "execution_count": 3,
   "id": "81c5887e",
   "metadata": {},
   "outputs": [
    {
     "data": {
      "text/plain": [
       "array([1, 4, 0, 4, 1])"
      ]
     },
     "execution_count": 3,
     "metadata": {},
     "output_type": "execute_result"
    }
   ],
   "source": [
    "A[0]=A[0]/2\n",
    "A[0]"
   ]
  },
  {
   "cell_type": "code",
   "execution_count": 4,
   "id": "a205f229",
   "metadata": {},
   "outputs": [
    {
     "data": {
      "text/plain": [
       "array([ 0, 19, -4, 15,  4])"
      ]
     },
     "execution_count": 4,
     "metadata": {},
     "output_type": "execute_result"
    }
   ],
   "source": [
    "A[1]=5*A[0]-A[1]\n",
    "A[1]"
   ]
  },
  {
   "cell_type": "code",
   "execution_count": 5,
   "id": "8c64eb1a",
   "metadata": {},
   "outputs": [
    {
     "data": {
      "text/plain": [
       "array([ 0, 28, -3, 31,  8])"
      ]
     },
     "execution_count": 5,
     "metadata": {},
     "output_type": "execute_result"
    }
   ],
   "source": [
    "A[2]=9*A[0]-A[2]\n",
    "A[2]"
   ]
  },
  {
   "cell_type": "code",
   "execution_count": 6,
   "id": "9d39ee08",
   "metadata": {},
   "outputs": [
    {
     "data": {
      "text/plain": [
       "array([ 0, -3,  1,  5,  2])"
      ]
     },
     "execution_count": 6,
     "metadata": {},
     "output_type": "execute_result"
    }
   ],
   "source": [
    "A[4]=A[4]-A[0]\n",
    "A[4]"
   ]
  },
  {
   "cell_type": "code",
   "execution_count": 7,
   "id": "06a20d94",
   "metadata": {},
   "outputs": [
    {
     "data": {
      "text/plain": [
       "array([[ 1,  4,  0,  4,  1],\n",
       "       [ 0, 19, -4, 15,  4],\n",
       "       [ 0, 28, -3, 31,  8],\n",
       "       [ 0,  3,  5,  8,  0],\n",
       "       [ 0, -3,  1,  5,  2]])"
      ]
     },
     "execution_count": 7,
     "metadata": {},
     "output_type": "execute_result"
    }
   ],
   "source": [
    "A"
   ]
  },
  {
   "cell_type": "code",
   "execution_count": 8,
   "id": "463bab30",
   "metadata": {},
   "outputs": [
    {
     "data": {
      "text/plain": [
       "array([0, 1, 0, 0, 0])"
      ]
     },
     "execution_count": 8,
     "metadata": {},
     "output_type": "execute_result"
    }
   ],
   "source": [
    "A[1]=A[1]/19\n",
    "A[1]"
   ]
  },
  {
   "cell_type": "code",
   "execution_count": 9,
   "id": "402d6eaf",
   "metadata": {},
   "outputs": [
    {
     "data": {
      "text/plain": [
       "array([  0,   0,   3, -31,  -8])"
      ]
     },
     "execution_count": 9,
     "metadata": {},
     "output_type": "execute_result"
    }
   ],
   "source": [
    "A[2]=28*A[1]-A[2]\n",
    "A[2]"
   ]
  },
  {
   "cell_type": "code",
   "execution_count": 10,
   "id": "35ba1e45",
   "metadata": {},
   "outputs": [
    {
     "data": {
      "text/plain": [
       "array([ 0,  0, -5, -8,  0])"
      ]
     },
     "execution_count": 10,
     "metadata": {},
     "output_type": "execute_result"
    }
   ],
   "source": [
    "A[3]=3*A[1]-A[3]\n",
    "A[3]"
   ]
  },
  {
   "cell_type": "code",
   "execution_count": 11,
   "id": "781e58b1",
   "metadata": {},
   "outputs": [
    {
     "data": {
      "text/plain": [
       "array([ 0,  0, -1, -5, -2])"
      ]
     },
     "execution_count": 11,
     "metadata": {},
     "output_type": "execute_result"
    }
   ],
   "source": [
    "A[4]=(-3)*A[1]-A[4]\n",
    "A[4]"
   ]
  },
  {
   "cell_type": "code",
   "execution_count": 12,
   "id": "6953601c",
   "metadata": {},
   "outputs": [
    {
     "data": {
      "text/latex": [
       "$\\displaystyle \\left[\\begin{matrix}1 & 4 & 0 & 4 & 1\\\\0 & 1 & 0 & 0 & 0\\\\0 & 0 & 3 & -31 & -8\\\\0 & 0 & -5 & -8 & 0\\\\0 & 0 & -1 & -5 & -2\\end{matrix}\\right]$"
      ],
      "text/plain": [
       "Matrix([\n",
       "[1, 4,  0,   4,  1],\n",
       "[0, 1,  0,   0,  0],\n",
       "[0, 0,  3, -31, -8],\n",
       "[0, 0, -5,  -8,  0],\n",
       "[0, 0, -1,  -5, -2]])"
      ]
     },
     "execution_count": 12,
     "metadata": {},
     "output_type": "execute_result"
    }
   ],
   "source": [
    "sp.Matrix(A)"
   ]
  },
  {
   "cell_type": "code",
   "execution_count": 13,
   "id": "0760d18f",
   "metadata": {},
   "outputs": [
    {
     "data": {
      "text/plain": [
       "array([  0,   0,   1, -10,  -2])"
      ]
     },
     "execution_count": 13,
     "metadata": {},
     "output_type": "execute_result"
    }
   ],
   "source": [
    "A[2]=A[2]/3\n",
    "A[2]"
   ]
  },
  {
   "cell_type": "code",
   "execution_count": 14,
   "id": "114ab80d",
   "metadata": {},
   "outputs": [
    {
     "data": {
      "text/plain": [
       "array([  0,   0,   0, -58, -10])"
      ]
     },
     "execution_count": 14,
     "metadata": {},
     "output_type": "execute_result"
    }
   ],
   "source": [
    "A[3]=A[3]+5*A[2]\n",
    "A[3]"
   ]
  },
  {
   "cell_type": "code",
   "execution_count": 15,
   "id": "7e2227e7",
   "metadata": {},
   "outputs": [
    {
     "data": {
      "text/plain": [
       "array([  0,   0,   0, -15,  -4])"
      ]
     },
     "execution_count": 15,
     "metadata": {},
     "output_type": "execute_result"
    }
   ],
   "source": [
    "A[4]=A[2]+A[4]\n",
    "A[4]"
   ]
  },
  {
   "cell_type": "code",
   "execution_count": 16,
   "id": "5d5c86c0",
   "metadata": {},
   "outputs": [
    {
     "data": {
      "text/latex": [
       "$\\displaystyle \\left[\\begin{matrix}1 & 4 & 0 & 4 & 1\\\\0 & 1 & 0 & 0 & 0\\\\0 & 0 & 1 & -10 & -2\\\\0 & 0 & 0 & -58 & -10\\\\0 & 0 & 0 & -15 & -4\\end{matrix}\\right]$"
      ],
      "text/plain": [
       "Matrix([\n",
       "[1, 4, 0,   4,   1],\n",
       "[0, 1, 0,   0,   0],\n",
       "[0, 0, 1, -10,  -2],\n",
       "[0, 0, 0, -58, -10],\n",
       "[0, 0, 0, -15,  -4]])"
      ]
     },
     "execution_count": 16,
     "metadata": {},
     "output_type": "execute_result"
    }
   ],
   "source": [
    "sp.Matrix(A)"
   ]
  },
  {
   "cell_type": "code",
   "execution_count": 17,
   "id": "625cbf3c",
   "metadata": {},
   "outputs": [
    {
     "data": {
      "text/plain": [
       "array([0, 0, 0, 1, 0])"
      ]
     },
     "execution_count": 17,
     "metadata": {},
     "output_type": "execute_result"
    }
   ],
   "source": [
    "A[3]=A[3]/-58\n",
    "A[3]"
   ]
  },
  {
   "cell_type": "code",
   "execution_count": 18,
   "id": "fb542ede",
   "metadata": {},
   "outputs": [
    {
     "data": {
      "text/plain": [
       "array([ 0,  0,  0,  0, -4])"
      ]
     },
     "execution_count": 18,
     "metadata": {},
     "output_type": "execute_result"
    }
   ],
   "source": [
    "A[4]=A[4]+15*A[3]\n",
    "A[4]"
   ]
  },
  {
   "cell_type": "code",
   "execution_count": 19,
   "id": "dc390ffd",
   "metadata": {},
   "outputs": [
    {
     "data": {
      "text/latex": [
       "$\\displaystyle \\left[\\begin{matrix}1 & 4 & 0 & 4 & 1\\\\0 & 1 & 0 & 0 & 0\\\\0 & 0 & 1 & -10 & -2\\\\0 & 0 & 0 & 1 & 0\\\\0 & 0 & 0 & 0 & -4\\end{matrix}\\right]$"
      ],
      "text/plain": [
       "Matrix([\n",
       "[1, 4, 0,   4,  1],\n",
       "[0, 1, 0,   0,  0],\n",
       "[0, 0, 1, -10, -2],\n",
       "[0, 0, 0,   1,  0],\n",
       "[0, 0, 0,   0, -4]])"
      ]
     },
     "execution_count": 19,
     "metadata": {},
     "output_type": "execute_result"
    }
   ],
   "source": [
    "sp.Matrix(A)"
   ]
  },
  {
   "cell_type": "code",
   "execution_count": 20,
   "id": "bef5b429",
   "metadata": {},
   "outputs": [
    {
     "data": {
      "text/plain": [
       "array([0, 0, 0, 0, 1])"
      ]
     },
     "execution_count": 20,
     "metadata": {},
     "output_type": "execute_result"
    }
   ],
   "source": [
    "A[4]=A[4]/-4\n",
    "A[4]"
   ]
  },
  {
   "cell_type": "code",
   "execution_count": 21,
   "id": "40fbe784",
   "metadata": {},
   "outputs": [
    {
     "data": {
      "text/latex": [
       "$\\displaystyle \\left[\\begin{matrix}1 & 4 & 0 & 4 & 1\\\\0 & 1 & 0 & 0 & 0\\\\0 & 0 & 1 & -10 & -2\\\\0 & 0 & 0 & 1 & 0\\\\0 & 0 & 0 & 0 & 1\\end{matrix}\\right]$"
      ],
      "text/plain": [
       "Matrix([\n",
       "[1, 4, 0,   4,  1],\n",
       "[0, 1, 0,   0,  0],\n",
       "[0, 0, 1, -10, -2],\n",
       "[0, 0, 0,   1,  0],\n",
       "[0, 0, 0,   0,  1]])"
      ]
     },
     "execution_count": 21,
     "metadata": {},
     "output_type": "execute_result"
    }
   ],
   "source": [
    "sp.Matrix(A)"
   ]
  },
  {
   "cell_type": "code",
   "execution_count": null,
   "id": "d4378cb6",
   "metadata": {},
   "outputs": [],
   "source": []
  }
 ],
 "metadata": {
  "kernelspec": {
   "display_name": "Python 3 (ipykernel)",
   "language": "python",
   "name": "python3"
  },
  "language_info": {
   "codemirror_mode": {
    "name": "ipython",
    "version": 3
   },
   "file_extension": ".py",
   "mimetype": "text/x-python",
   "name": "python",
   "nbconvert_exporter": "python",
   "pygments_lexer": "ipython3",
   "version": "3.11.4"
  }
 },
 "nbformat": 4,
 "nbformat_minor": 5
}
